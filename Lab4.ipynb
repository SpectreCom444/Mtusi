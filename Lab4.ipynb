{
 "cells": [
  {
   "cell_type": "code",
   "execution_count": 31,
   "id": "244bcbf6",
   "metadata": {},
   "outputs": [
    {
     "data": {
      "image/png": "[encoded data removed]",
      "text/plain": [
       "<Figure size 640x480 with 1 Axes>"
      ]
     },
     "metadata": {},
     "output_type": "display_data"
    },
    {
     "name": "stdout",
     "output_type": "stream",
     "text": [
      "5\n"
     ]
    }
   ],
   "source": [
    "import tensorflow as tf\n",
    "import keras\n",
    "mnist = tf.keras.datasets.mnist\n",
    "(train_images, train_labels),(test_images, test_labels) = mnist.load_data()\n",
    "import matplotlib.pyplot as plt\n",
    "plt.imshow(train_images[0],cmap=plt.cm.binary)\n",
    "plt.show()\n",
    "print(train_labels[0])\n",
    "train_images = train_images / 255.0\n",
    "test_images = test_images / 255.0\n",
    "from keras.utils import to_categorical\n",
    "train_labels = to_categorical(train_labels)\n",
    "test_labels = to_categorical(test_labels)\n",
    "from tensorflow.keras.layers import Dense, Activation, Flatten\n",
    "from tensorflow.keras.models import Sequential"
   ]
  },
  {
   "cell_type": "code",
   "execution_count": 44,
   "id": "da8150c3",
   "metadata": {},
   "outputs": [],
   "source": [
    "history_list_Adam=[]\n",
    "history_list_SGD=[]\n",
    "history_list_Ftrl=[]"
   ]
  },
  {
   "cell_type": "code",
   "execution_count": 45,
   "id": "30d5f3c3",
   "metadata": {},
   "outputs": [
    {
     "name": "stdout",
     "output_type": "stream",
     "text": [
      "Epoch 1/20\n",
      "469/469 [==============================] - 1s 1ms/step - loss: 0.9220 - accuracy: 0.8263\n",
      "Epoch 2/20\n",
      "469/469 [==============================] - 1s 2ms/step - loss: 0.5870 - accuracy: 0.8601\n",
      "Epoch 3/20\n",
      "469/469 [==============================] - 1s 2ms/step - loss: 0.6190 - accuracy: 0.8556\n",
      "Epoch 4/20\n",
      "469/469 [==============================] - 1s 1ms/step - loss: 0.6444 - accuracy: 0.8463\n",
      "Epoch 5/20\n",
      "469/469 [==============================] - 1s 1ms/step - loss: 0.6053 - accuracy: 0.8568\n",
      "Epoch 6/20\n",
      "469/469 [==============================] - 1s 1ms/step - loss: 0.6211 - accuracy: 0.8553\n",
      "Epoch 7/20\n",
      "469/469 [==============================] - 1s 1ms/step - loss: 0.6297 - accuracy: 0.8516\n",
      "Epoch 8/20\n",
      "469/469 [==============================] - 1s 2ms/step - loss: 0.6517 - accuracy: 0.8439\n",
      "Epoch 9/20\n",
      "469/469 [==============================] - 1s 1ms/step - loss: 0.6521 - accuracy: 0.8435\n",
      "Epoch 10/20\n",
      "469/469 [==============================] - 1s 1ms/step - loss: 0.6481 - accuracy: 0.8405\n",
      "Epoch 11/20\n",
      "469/469 [==============================] - 1s 1ms/step - loss: 0.6268 - accuracy: 0.8463\n",
      "Epoch 12/20\n",
      "469/469 [==============================] - 1s 1ms/step - loss: 0.6173 - accuracy: 0.8494\n",
      "Epoch 13/20\n",
      "469/469 [==============================] - 1s 1ms/step - loss: 0.5951 - accuracy: 0.8506\n",
      "Epoch 14/20\n",
      "469/469 [==============================] - 1s 1ms/step - loss: 0.6914 - accuracy: 0.8239\n",
      "Epoch 15/20\n",
      "469/469 [==============================] - 1s 1ms/step - loss: 0.7205 - accuracy: 0.8135\n",
      "Epoch 16/20\n",
      "469/469 [==============================] - 1s 1ms/step - loss: 0.6762 - accuracy: 0.8217\n",
      "Epoch 17/20\n",
      "469/469 [==============================] - 1s 1ms/step - loss: 0.6766 - accuracy: 0.8274\n",
      "Epoch 18/20\n",
      "469/469 [==============================] - 1s 1ms/step - loss: 0.6867 - accuracy: 0.8188\n",
      "Epoch 19/20\n",
      "469/469 [==============================] - 1s 1ms/step - loss: 0.6715 - accuracy: 0.8223\n",
      "Epoch 20/20\n",
      "469/469 [==============================] - 1s 2ms/step - loss: 0.7050 - accuracy: 0.8121\n",
      "313/313 [==============================] - 0s 854us/step - loss: 0.9713 - accuracy: 0.8496\n",
      "test_acc: 0.8496000170707703\n"
     ]
    }
   ],
   "source": [
    "model = Sequential()\n",
    "model.add(Flatten())\n",
    "model.add(Dense(256, activation='relu'))\n",
    "model.add(Dense(10, activation='softmax'))\n",
    "custom_optimazer = keras.optimizers.Adam(learning_rate=0.1)\n",
    "model.compile(optimizer=custom_optimazer,loss='categorical_crossentropy', metrics=['accuracy'])\n",
    "history=model.fit(train_images, train_labels, epochs=20, batch_size=128)\n",
    "history_list_Adam.append(history)\n",
    "test_loss, test_acc = model.evaluate(test_images, test_labels)\n",
    "print('test_acc:', test_acc)"
   ]
  },
  {
   "cell_type": "code",
   "execution_count": 46,
   "id": "a359fad4",
   "metadata": {},
   "outputs": [
    {
     "name": "stdout",
     "output_type": "stream",
     "text": [
      "Epoch 1/20\n",
      "469/469 [==============================] - 1s 2ms/step - loss: 2.8593 - accuracy: 0.6717\n",
      "Epoch 2/20\n",
      "469/469 [==============================] - 1s 2ms/step - loss: 1.2190 - accuracy: 0.6185\n",
      "Epoch 3/20\n",
      "469/469 [==============================] - 1s 1ms/step - loss: 1.1165 - accuracy: 0.6374\n",
      "Epoch 4/20\n",
      "469/469 [==============================] - 1s 1ms/step - loss: 1.2562 - accuracy: 0.6003\n",
      "Epoch 5/20\n",
      "469/469 [==============================] - 1s 1ms/step - loss: 1.4445 - accuracy: 0.5160\n",
      "Epoch 6/20\n",
      "469/469 [==============================] - 1s 1ms/step - loss: 1.6059 - accuracy: 0.4240\n",
      "Epoch 7/20\n",
      "469/469 [==============================] - 1s 1ms/step - loss: 1.8127 - accuracy: 0.3735\n",
      "Epoch 8/20\n",
      "469/469 [==============================] - 1s 1ms/step - loss: 1.8695 - accuracy: 0.3806\n",
      "Epoch 9/20\n",
      "469/469 [==============================] - 1s 1ms/step - loss: 1.8574 - accuracy: 0.3362\n",
      "Epoch 10/20\n",
      "469/469 [==============================] - 1s 1ms/step - loss: 1.8481 - accuracy: 0.3128\n",
      "Epoch 11/20\n",
      "469/469 [==============================] - 1s 1ms/step - loss: 1.8422 - accuracy: 0.3108\n",
      "Epoch 12/20\n",
      "469/469 [==============================] - 1s 1ms/step - loss: 1.8862 - accuracy: 0.3191\n",
      "Epoch 13/20\n",
      "469/469 [==============================] - 1s 1ms/step - loss: 1.8051 - accuracy: 0.3101\n",
      "Epoch 14/20\n",
      "469/469 [==============================] - 1s 2ms/step - loss: 1.8578 - accuracy: 0.3211\n",
      "Epoch 15/20\n",
      "469/469 [==============================] - 1s 1ms/step - loss: 1.8620 - accuracy: 0.3081\n",
      "Epoch 16/20\n",
      "469/469 [==============================] - 1s 1ms/step - loss: 1.8481 - accuracy: 0.3064\n",
      "Epoch 17/20\n",
      "469/469 [==============================] - 1s 1ms/step - loss: 1.8697 - accuracy: 0.3029\n",
      "Epoch 18/20\n",
      "469/469 [==============================] - 1s 1ms/step - loss: 1.8237 - accuracy: 0.3099\n",
      "Epoch 19/20\n",
      "469/469 [==============================] - 1s 2ms/step - loss: 1.8091 - accuracy: 0.3318\n",
      "Epoch 20/20\n",
      "469/469 [==============================] - 1s 1ms/step - loss: 1.7931 - accuracy: 0.3232\n",
      "313/313 [==============================] - 0s 856us/step - loss: 1.9924 - accuracy: 0.3216\n",
      "test_acc: 0.3215999901294708\n"
     ]
    }
   ],
   "source": [
    "model = Sequential()\n",
    "model.add(Flatten())\n",
    "model.add(Dense(256, activation='relu'))\n",
    "model.add(Dense(10, activation='softmax'))\n",
    "custom_optimazer = keras.optimizers.Adam(learning_rate=0.2)\n",
    "model.compile(optimizer=custom_optimazer,loss='categorical_crossentropy', metrics=['accuracy'])\n",
    "history=model.fit(train_images, train_labels, epochs=20, batch_size=128)\n",
    "history_list_Adam.append(history)\n",
    "test_loss, test_acc = model.evaluate(test_images, test_labels)\n",
    "print('test_acc:', test_acc)"
   ]
  },
  {
   "cell_type": "code",
   "execution_count": 47,
   "id": "edd8c73f",
   "metadata": {},
   "outputs": [
    {
     "name": "stdout",
     "output_type": "stream",
     "text": [
      "Epoch 1/20\n",
      "469/469 [==============================] - 1s 2ms/step - loss: 7.5917 - accuracy: 0.4184\n",
      "Epoch 2/20\n",
      "469/469 [==============================] - 1s 2ms/step - loss: 1.9146 - accuracy: 0.3100\n",
      "Epoch 3/20\n",
      "469/469 [==============================] - 1s 1ms/step - loss: 2.0408 - accuracy: 0.2417\n",
      "Epoch 4/20\n",
      "469/469 [==============================] - 1s 1ms/step - loss: 2.0518 - accuracy: 0.2299\n",
      "Epoch 5/20\n",
      "469/469 [==============================] - 1s 1ms/step - loss: 2.0594 - accuracy: 0.2200\n",
      "Epoch 6/20\n",
      "469/469 [==============================] - 1s 2ms/step - loss: 2.1033 - accuracy: 0.2256\n",
      "Epoch 7/20\n",
      "469/469 [==============================] - 1s 1ms/step - loss: 2.0161 - accuracy: 0.2284\n",
      "Epoch 8/20\n",
      "469/469 [==============================] - 1s 1ms/step - loss: 2.0739 - accuracy: 0.2021\n",
      "Epoch 9/20\n",
      "469/469 [==============================] - 1s 1ms/step - loss: 2.0930 - accuracy: 0.2200\n",
      "Epoch 10/20\n",
      "469/469 [==============================] - 1s 1ms/step - loss: 2.0477 - accuracy: 0.2183\n",
      "Epoch 11/20\n",
      "469/469 [==============================] - 1s 1ms/step - loss: 2.0686 - accuracy: 0.2014\n",
      "Epoch 12/20\n",
      "469/469 [==============================] - 1s 1ms/step - loss: 2.1150 - accuracy: 0.1852\n",
      "Epoch 13/20\n",
      "469/469 [==============================] - 1s 1ms/step - loss: 2.0872 - accuracy: 0.1917\n",
      "Epoch 14/20\n",
      "469/469 [==============================] - 1s 1ms/step - loss: 2.1803 - accuracy: 0.1877\n",
      "Epoch 15/20\n",
      "469/469 [==============================] - 1s 1ms/step - loss: 2.0815 - accuracy: 0.1878\n",
      "Epoch 16/20\n",
      "469/469 [==============================] - 1s 1ms/step - loss: 2.1145 - accuracy: 0.1796\n",
      "Epoch 17/20\n",
      "469/469 [==============================] - 1s 1ms/step - loss: 2.1345 - accuracy: 0.1871\n",
      "Epoch 18/20\n",
      "469/469 [==============================] - 1s 1ms/step - loss: 2.1125 - accuracy: 0.1836\n",
      "Epoch 19/20\n",
      "469/469 [==============================] - 1s 2ms/step - loss: 2.1209 - accuracy: 0.1877\n",
      "Epoch 20/20\n",
      "469/469 [==============================] - 1s 1ms/step - loss: 2.1002 - accuracy: 0.1922\n",
      "313/313 [==============================] - 0s 834us/step - loss: 2.2364 - accuracy: 0.1804\n",
      "test_acc: 0.18039999902248383\n"
     ]
    }
   ],
   "source": [
    "model = Sequential()\n",
    "model.add(Flatten())\n",
    "model.add(Dense(256, activation='relu'))\n",
    "model.add(Dense(10, activation='softmax'))\n",
    "custom_optimazer = keras.optimizers.Adam(learning_rate=0.3)\n",
    "model.compile(optimizer=custom_optimazer,loss='categorical_crossentropy', metrics=['accuracy'])\n",
    "history=model.fit(train_images, train_labels, epochs=20, batch_size=128)\n",
    "history_list_Adam.append(history)\n",
    "test_loss, test_acc = model.evaluate(test_images, test_labels)\n",
    "print('test_acc:', test_acc)"
   ]
  },
  {
   "cell_type": "code",
   "execution_count": 48,
   "id": "c5ed6f0c",
   "metadata": {},
   "outputs": [
    {
     "name": "stdout",
     "output_type": "stream",
     "text": [
      "Epoch 1/20\n",
      "469/469 [==============================] - 1s 1ms/step - loss: 0.4573 - accuracy: 0.8790\n",
      "Epoch 2/20\n",
      "469/469 [==============================] - 1s 1ms/step - loss: 0.2580 - accuracy: 0.9272\n",
      "Epoch 3/20\n",
      "469/469 [==============================] - 1s 1ms/step - loss: 0.2084 - accuracy: 0.9411\n",
      "Epoch 4/20\n",
      "469/469 [==============================] - 1s 1ms/step - loss: 0.1752 - accuracy: 0.9509\n",
      "Epoch 5/20\n",
      "469/469 [==============================] - 1s 1ms/step - loss: 0.1501 - accuracy: 0.9581\n",
      "Epoch 6/20\n",
      "469/469 [==============================] - 1s 1ms/step - loss: 0.1322 - accuracy: 0.9630\n",
      "Epoch 7/20\n",
      "469/469 [==============================] - 1s 1ms/step - loss: 0.1172 - accuracy: 0.9675\n",
      "Epoch 8/20\n",
      "469/469 [==============================] - 1s 1ms/step - loss: 0.1053 - accuracy: 0.9711\n",
      "Epoch 9/20\n",
      "469/469 [==============================] - 1s 1ms/step - loss: 0.0958 - accuracy: 0.9732\n",
      "Epoch 10/20\n",
      "469/469 [==============================] - 1s 1ms/step - loss: 0.0875 - accuracy: 0.9760\n",
      "Epoch 11/20\n",
      "469/469 [==============================] - 1s 1ms/step - loss: 0.0805 - accuracy: 0.9782\n",
      "Epoch 12/20\n",
      "469/469 [==============================] - 1s 1ms/step - loss: 0.0744 - accuracy: 0.9797\n",
      "Epoch 13/20\n",
      "469/469 [==============================] - 1s 1ms/step - loss: 0.0692 - accuracy: 0.9817\n",
      "Epoch 14/20\n",
      "469/469 [==============================] - 1s 1ms/step - loss: 0.0647 - accuracy: 0.9825\n",
      "Epoch 15/20\n",
      "469/469 [==============================] - 1s 1ms/step - loss: 0.0606 - accuracy: 0.9840\n",
      "Epoch 16/20\n",
      "469/469 [==============================] - 1s 1ms/step - loss: 0.0567 - accuracy: 0.9851\n",
      "Epoch 17/20\n",
      "469/469 [==============================] - 1s 1ms/step - loss: 0.0535 - accuracy: 0.9859\n",
      "Epoch 18/20\n",
      "469/469 [==============================] - 1s 1ms/step - loss: 0.0504 - accuracy: 0.9874\n",
      "Epoch 19/20\n",
      "469/469 [==============================] - 1s 1ms/step - loss: 0.0474 - accuracy: 0.9880\n",
      "Epoch 20/20\n",
      "469/469 [==============================] - 1s 1ms/step - loss: 0.0449 - accuracy: 0.9889\n",
      "313/313 [==============================] - 0s 898us/step - loss: 0.0715 - accuracy: 0.9796\n",
      "test_acc: 0.9796000123023987\n"
     ]
    }
   ],
   "source": [
    "model = Sequential()\n",
    "model.add(Flatten())\n",
    "model.add(Dense(256, activation='relu'))\n",
    "model.add(Dense(10, activation='softmax'))\n",
    "custom_optimazer = keras.optimizers.SGD(learning_rate=0.1)\n",
    "model.compile(optimizer=custom_optimazer,loss='categorical_crossentropy', metrics=['accuracy'])\n",
    "history=model.fit(train_images, train_labels, epochs=20, batch_size=128)\n",
    "history_list_SGD.append(history)\n",
    "test_loss, test_acc = model.evaluate(test_images, test_labels)\n",
    "print('test_acc:', test_acc)"
   ]
  },
  {
   "cell_type": "code",
   "execution_count": 49,
   "id": "fb78433c",
   "metadata": {},
   "outputs": [
    {
     "name": "stdout",
     "output_type": "stream",
     "text": [
      "Epoch 1/20\n",
      "469/469 [==============================] - 1s 1ms/step - loss: 0.3610 - accuracy: 0.8974\n",
      "Epoch 2/20\n",
      "469/469 [==============================] - 1s 1ms/step - loss: 0.1870 - accuracy: 0.9469\n",
      "Epoch 3/20\n",
      "469/469 [==============================] - 1s 1ms/step - loss: 0.1383 - accuracy: 0.9610\n",
      "Epoch 4/20\n",
      "469/469 [==============================] - 1s 1ms/step - loss: 0.1102 - accuracy: 0.9693\n",
      "Epoch 5/20\n",
      "469/469 [==============================] - 1s 1ms/step - loss: 0.0923 - accuracy: 0.9743\n",
      "Epoch 6/20\n",
      "469/469 [==============================] - 1s 1ms/step - loss: 0.0790 - accuracy: 0.9780\n",
      "Epoch 7/20\n",
      "469/469 [==============================] - 1s 1ms/step - loss: 0.0686 - accuracy: 0.9809\n",
      "Epoch 8/20\n",
      "469/469 [==============================] - 1s 1ms/step - loss: 0.0606 - accuracy: 0.9829\n",
      "Epoch 9/20\n",
      "469/469 [==============================] - 1s 1ms/step - loss: 0.0536 - accuracy: 0.9855\n",
      "Epoch 10/20\n",
      "469/469 [==============================] - 1s 1ms/step - loss: 0.0481 - accuracy: 0.9871\n",
      "Epoch 11/20\n",
      "469/469 [==============================] - 1s 1ms/step - loss: 0.0431 - accuracy: 0.9887\n",
      "Epoch 12/20\n",
      "469/469 [==============================] - 1s 1ms/step - loss: 0.0389 - accuracy: 0.9898\n",
      "Epoch 13/20\n",
      "469/469 [==============================] - 1s 1ms/step - loss: 0.0353 - accuracy: 0.9911\n",
      "Epoch 14/20\n",
      "469/469 [==============================] - 1s 1ms/step - loss: 0.0322 - accuracy: 0.9923\n",
      "Epoch 15/20\n",
      "469/469 [==============================] - 1s 1ms/step - loss: 0.0289 - accuracy: 0.9933\n",
      "Epoch 16/20\n",
      "469/469 [==============================] - 1s 1ms/step - loss: 0.0268 - accuracy: 0.9940\n",
      "Epoch 17/20\n",
      "469/469 [==============================] - 1s 1ms/step - loss: 0.0242 - accuracy: 0.9946\n",
      "Epoch 18/20\n",
      "469/469 [==============================] - 1s 1ms/step - loss: 0.0224 - accuracy: 0.9954\n",
      "Epoch 19/20\n",
      "469/469 [==============================] - 1s 1ms/step - loss: 0.0206 - accuracy: 0.9961\n",
      "Epoch 20/20\n",
      "469/469 [==============================] - 1s 1ms/step - loss: 0.0188 - accuracy: 0.9966\n",
      "313/313 [==============================] - 0s 789us/step - loss: 0.0653 - accuracy: 0.9793\n",
      "test_acc: 0.9793000221252441\n"
     ]
    }
   ],
   "source": [
    "model = Sequential()\n",
    "model.add(Flatten())\n",
    "model.add(Dense(256, activation='relu'))\n",
    "model.add(Dense(10, activation='softmax'))\n",
    "custom_optimazer = keras.optimizers.SGD(learning_rate=0.2)\n",
    "model.compile(optimizer=custom_optimazer,loss='categorical_crossentropy', metrics=['accuracy'])\n",
    "history=model.fit(train_images, train_labels, epochs=20, batch_size=128)\n",
    "history_list_SGD.append(history)\n",
    "test_loss, test_acc = model.evaluate(test_images, test_labels)\n",
    "print('test_acc:', test_acc)"
   ]
  },
  {
   "cell_type": "code",
   "execution_count": 50,
   "id": "b18edf4c",
   "metadata": {},
   "outputs": [
    {
     "name": "stdout",
     "output_type": "stream",
     "text": [
      "Epoch 1/20\n",
      "469/469 [==============================] - 1s 1ms/step - loss: 0.3248 - accuracy: 0.9055\n",
      "Epoch 2/20\n",
      "469/469 [==============================] - 1s 1ms/step - loss: 0.1514 - accuracy: 0.9570\n",
      "Epoch 3/20\n",
      "469/469 [==============================] - 1s 1ms/step - loss: 0.1079 - accuracy: 0.9691\n",
      "Epoch 4/20\n",
      "469/469 [==============================] - 1s 1ms/step - loss: 0.0859 - accuracy: 0.9750\n",
      "Epoch 5/20\n",
      "469/469 [==============================] - 1s 1ms/step - loss: 0.0698 - accuracy: 0.9806\n",
      "Epoch 6/20\n",
      "469/469 [==============================] - 1s 1ms/step - loss: 0.0589 - accuracy: 0.9835\n",
      "Epoch 7/20\n",
      "469/469 [==============================] - 1s 1ms/step - loss: 0.0504 - accuracy: 0.9861\n",
      "Epoch 8/20\n",
      "469/469 [==============================] - 1s 1ms/step - loss: 0.0434 - accuracy: 0.9883\n",
      "Epoch 9/20\n",
      "469/469 [==============================] - 1s 1ms/step - loss: 0.0378 - accuracy: 0.9902\n",
      "Epoch 10/20\n",
      "469/469 [==============================] - 1s 1ms/step - loss: 0.0333 - accuracy: 0.9915\n",
      "Epoch 11/20\n",
      "469/469 [==============================] - 1s 1ms/step - loss: 0.0291 - accuracy: 0.9929\n",
      "Epoch 12/20\n",
      "469/469 [==============================] - 1s 1ms/step - loss: 0.0260 - accuracy: 0.9937\n",
      "Epoch 13/20\n",
      "469/469 [==============================] - 1s 1ms/step - loss: 0.0227 - accuracy: 0.9948\n",
      "Epoch 14/20\n",
      "469/469 [==============================] - 1s 1ms/step - loss: 0.0201 - accuracy: 0.9959\n",
      "Epoch 15/20\n",
      "469/469 [==============================] - 1s 1ms/step - loss: 0.0176 - accuracy: 0.9965\n",
      "Epoch 16/20\n",
      "469/469 [==============================] - 1s 1ms/step - loss: 0.0159 - accuracy: 0.9971\n",
      "Epoch 17/20\n",
      "469/469 [==============================] - 1s 1ms/step - loss: 0.0138 - accuracy: 0.9976\n",
      "Epoch 18/20\n",
      "469/469 [==============================] - 1s 1ms/step - loss: 0.0125 - accuracy: 0.9983\n",
      "Epoch 19/20\n",
      "469/469 [==============================] - 1s 1ms/step - loss: 0.0113 - accuracy: 0.9986\n",
      "Epoch 20/20\n",
      "469/469 [==============================] - 1s 1ms/step - loss: 0.0101 - accuracy: 0.9988\n",
      "313/313 [==============================] - 0s 821us/step - loss: 0.0623 - accuracy: 0.9805\n",
      "test_acc: 0.9804999828338623\n"
     ]
    }
   ],
   "source": [
    "model = Sequential()\n",
    "model.add(Flatten())\n",
    "model.add(Dense(256, activation='relu'))\n",
    "model.add(Dense(10, activation='softmax'))\n",
    "custom_optimazer = keras.optimizers.SGD(learning_rate=0.3)\n",
    "model.compile(optimizer=custom_optimazer,loss='categorical_crossentropy', metrics=['accuracy'])\n",
    "history=model.fit(train_images, train_labels, epochs=20, batch_size=128)\n",
    "history_list_SGD.append(history)\n",
    "test_loss, test_acc = model.evaluate(test_images, test_labels)\n",
    "print('test_acc:', test_acc)"
   ]
  },
  {
   "cell_type": "code",
   "execution_count": 51,
   "id": "97451634",
   "metadata": {},
   "outputs": [
    {
     "name": "stdout",
     "output_type": "stream",
     "text": [
      "Epoch 1/20\n",
      "469/469 [==============================] - 1s 2ms/step - loss: 0.4910 - accuracy: 0.8518\n",
      "Epoch 2/20\n",
      "469/469 [==============================] - 1s 2ms/step - loss: 0.2064 - accuracy: 0.9415\n",
      "Epoch 3/20\n",
      "469/469 [==============================] - 1s 2ms/step - loss: 0.1485 - accuracy: 0.9571\n",
      "Epoch 4/20\n",
      "469/469 [==============================] - 1s 2ms/step - loss: 0.1159 - accuracy: 0.9670\n",
      "Epoch 5/20\n",
      "469/469 [==============================] - 1s 2ms/step - loss: 0.0956 - accuracy: 0.9726\n",
      "Epoch 6/20\n",
      "469/469 [==============================] - 1s 2ms/step - loss: 0.0806 - accuracy: 0.9769\n",
      "Epoch 7/20\n",
      "469/469 [==============================] - 1s 2ms/step - loss: 0.0700 - accuracy: 0.9804\n",
      "Epoch 8/20\n",
      "469/469 [==============================] - 1s 2ms/step - loss: 0.0612 - accuracy: 0.9823\n",
      "Epoch 9/20\n",
      "469/469 [==============================] - 1s 2ms/step - loss: 0.0545 - accuracy: 0.9846\n",
      "Epoch 10/20\n",
      "469/469 [==============================] - 1s 2ms/step - loss: 0.0488 - accuracy: 0.9863\n",
      "Epoch 11/20\n",
      "469/469 [==============================] - 1s 2ms/step - loss: 0.0437 - accuracy: 0.9883\n",
      "Epoch 12/20\n",
      "469/469 [==============================] - 1s 2ms/step - loss: 0.0392 - accuracy: 0.9890\n",
      "Epoch 13/20\n",
      "469/469 [==============================] - 1s 2ms/step - loss: 0.0354 - accuracy: 0.9906\n",
      "Epoch 14/20\n",
      "469/469 [==============================] - 1s 2ms/step - loss: 0.0322 - accuracy: 0.9918\n",
      "Epoch 15/20\n",
      "469/469 [==============================] - 1s 2ms/step - loss: 0.0290 - accuracy: 0.9927\n",
      "Epoch 16/20\n",
      "469/469 [==============================] - 1s 2ms/step - loss: 0.0264 - accuracy: 0.9936\n",
      "Epoch 17/20\n",
      "469/469 [==============================] - 1s 2ms/step - loss: 0.0239 - accuracy: 0.9946\n",
      "Epoch 18/20\n",
      "469/469 [==============================] - 1s 2ms/step - loss: 0.0219 - accuracy: 0.9951\n",
      "Epoch 19/20\n",
      "469/469 [==============================] - 1s 2ms/step - loss: 0.0201 - accuracy: 0.9958\n",
      "Epoch 20/20\n",
      "469/469 [==============================] - 1s 2ms/step - loss: 0.0182 - accuracy: 0.9966\n",
      "313/313 [==============================] - 0s 774us/step - loss: 0.0629 - accuracy: 0.9803\n",
      "test_acc: 0.9803000092506409\n"
     ]
    }
   ],
   "source": [
    "model = Sequential()\n",
    "model.add(Flatten())\n",
    "model.add(Dense(256, activation='relu'))\n",
    "model.add(Dense(10, activation='softmax'))\n",
    "custom_optimazer = keras.optimizers.Ftrl(learning_rate=0.1)\n",
    "model.compile(optimizer=custom_optimazer,loss='categorical_crossentropy', metrics=['accuracy'])\n",
    "history=model.fit(train_images, train_labels, epochs=20, batch_size=128)\n",
    "history_list_Ftrl.append(history)\n",
    "test_loss, test_acc = model.evaluate(test_images, test_labels)\n",
    "print('test_acc:', test_acc)"
   ]
  },
  {
   "cell_type": "code",
   "execution_count": 52,
   "id": "cfd6d149",
   "metadata": {},
   "outputs": [
    {
     "name": "stdout",
     "output_type": "stream",
     "text": [
      "Epoch 1/20\n",
      "469/469 [==============================] - 1s 2ms/step - loss: 0.3578 - accuracy: 0.8880\n",
      "Epoch 2/20\n",
      "469/469 [==============================] - 1s 2ms/step - loss: 0.1313 - accuracy: 0.9616\n",
      "Epoch 3/20\n",
      "469/469 [==============================] - 1s 2ms/step - loss: 0.0922 - accuracy: 0.9725\n",
      "Epoch 4/20\n",
      "469/469 [==============================] - 1s 2ms/step - loss: 0.0713 - accuracy: 0.9786\n",
      "Epoch 5/20\n",
      "469/469 [==============================] - 1s 2ms/step - loss: 0.0577 - accuracy: 0.9827\n",
      "Epoch 6/20\n",
      "469/469 [==============================] - 1s 2ms/step - loss: 0.0468 - accuracy: 0.9862\n",
      "Epoch 7/20\n",
      "469/469 [==============================] - 1s 2ms/step - loss: 0.0392 - accuracy: 0.9886\n",
      "Epoch 8/20\n",
      "469/469 [==============================] - 1s 2ms/step - loss: 0.0324 - accuracy: 0.9909\n",
      "Epoch 9/20\n",
      "469/469 [==============================] - 1s 2ms/step - loss: 0.0263 - accuracy: 0.9927\n",
      "Epoch 10/20\n",
      "469/469 [==============================] - 1s 2ms/step - loss: 0.0219 - accuracy: 0.9944\n",
      "Epoch 11/20\n",
      "469/469 [==============================] - 1s 2ms/step - loss: 0.0189 - accuracy: 0.9956\n",
      "Epoch 12/20\n",
      "469/469 [==============================] - 1s 2ms/step - loss: 0.0158 - accuracy: 0.9966\n",
      "Epoch 13/20\n",
      "469/469 [==============================] - 1s 2ms/step - loss: 0.0132 - accuracy: 0.9974\n",
      "Epoch 14/20\n",
      "469/469 [==============================] - 1s 2ms/step - loss: 0.0109 - accuracy: 0.9984\n",
      "Epoch 15/20\n",
      "469/469 [==============================] - 1s 2ms/step - loss: 0.0097 - accuracy: 0.9985\n",
      "Epoch 16/20\n",
      "469/469 [==============================] - 1s 2ms/step - loss: 0.0080 - accuracy: 0.9990\n",
      "Epoch 17/20\n",
      "469/469 [==============================] - 1s 2ms/step - loss: 0.0067 - accuracy: 0.9992\n",
      "Epoch 18/20\n",
      "469/469 [==============================] - 1s 2ms/step - loss: 0.0060 - accuracy: 0.9993\n",
      "Epoch 19/20\n",
      "469/469 [==============================] - 1s 2ms/step - loss: 0.0049 - accuracy: 0.9998\n",
      "Epoch 20/20\n",
      "469/469 [==============================] - 1s 2ms/step - loss: 0.0044 - accuracy: 0.9998\n",
      "313/313 [==============================] - 0s 861us/step - loss: 0.0638 - accuracy: 0.9812\n",
      "test_acc: 0.9811999797821045\n"
     ]
    }
   ],
   "source": [
    "model = Sequential()\n",
    "model.add(Flatten())\n",
    "model.add(Dense(256, activation='relu'))\n",
    "model.add(Dense(10, activation='softmax'))\n",
    "custom_optimazer = keras.optimizers.Ftrl(learning_rate=0.2)\n",
    "model.compile(optimizer=custom_optimazer,loss='categorical_crossentropy', metrics=['accuracy'])\n",
    "history=model.fit(train_images, train_labels, epochs=20, batch_size=128)\n",
    "history_list_Ftrl.append(history)\n",
    "test_loss, test_acc = model.evaluate(test_images, test_labels)\n",
    "print('test_acc:', test_acc)"
   ]
  },
  {
   "cell_type": "code",
   "execution_count": 53,
   "id": "2ad54af9",
   "metadata": {},
   "outputs": [
    {
     "name": "stdout",
     "output_type": "stream",
     "text": [
      "Epoch 1/20\n",
      "469/469 [==============================] - 1s 2ms/step - loss: 0.3872 - accuracy: 0.8787\n",
      "Epoch 2/20\n",
      "469/469 [==============================] - 1s 2ms/step - loss: 0.1433 - accuracy: 0.9566\n",
      "Epoch 3/20\n",
      "469/469 [==============================] - 1s 2ms/step - loss: 0.1050 - accuracy: 0.9684\n",
      "Epoch 4/20\n",
      "469/469 [==============================] - 1s 2ms/step - loss: 0.0842 - accuracy: 0.9748\n",
      "Epoch 5/20\n",
      "469/469 [==============================] - 1s 2ms/step - loss: 0.0715 - accuracy: 0.9781\n",
      "Epoch 6/20\n",
      "469/469 [==============================] - 1s 2ms/step - loss: 0.0610 - accuracy: 0.9814\n",
      "Epoch 7/20\n",
      "469/469 [==============================] - 1s 2ms/step - loss: 0.0523 - accuracy: 0.9840\n",
      "Epoch 8/20\n",
      "469/469 [==============================] - 1s 2ms/step - loss: 0.0464 - accuracy: 0.9855\n",
      "Epoch 9/20\n",
      "469/469 [==============================] - 1s 2ms/step - loss: 0.0392 - accuracy: 0.9877\n",
      "Epoch 10/20\n",
      "469/469 [==============================] - 1s 2ms/step - loss: 0.0346 - accuracy: 0.9888\n",
      "Epoch 11/20\n",
      "469/469 [==============================] - 1s 2ms/step - loss: 0.0296 - accuracy: 0.9914\n",
      "Epoch 12/20\n",
      "469/469 [==============================] - 1s 2ms/step - loss: 0.0261 - accuracy: 0.9922\n",
      "Epoch 13/20\n",
      "469/469 [==============================] - 1s 2ms/step - loss: 0.0219 - accuracy: 0.9938\n",
      "Epoch 14/20\n",
      "469/469 [==============================] - 1s 2ms/step - loss: 0.0188 - accuracy: 0.9948\n",
      "Epoch 15/20\n",
      "469/469 [==============================] - 1s 2ms/step - loss: 0.0164 - accuracy: 0.9958\n",
      "Epoch 16/20\n",
      "469/469 [==============================] - 1s 2ms/step - loss: 0.0139 - accuracy: 0.9970\n",
      "Epoch 17/20\n",
      "469/469 [==============================] - 1s 2ms/step - loss: 0.0116 - accuracy: 0.9976\n",
      "Epoch 18/20\n",
      "469/469 [==============================] - 1s 2ms/step - loss: 0.0098 - accuracy: 0.9983\n",
      "Epoch 19/20\n",
      "469/469 [==============================] - 1s 2ms/step - loss: 0.0089 - accuracy: 0.9986\n",
      "Epoch 20/20\n",
      "469/469 [==============================] - 1s 2ms/step - loss: 0.0074 - accuracy: 0.9990\n",
      "313/313 [==============================] - 0s 794us/step - loss: 0.0876 - accuracy: 0.9789\n",
      "test_acc: 0.9789000153541565\n"
     ]
    }
   ],
   "source": [
    "model = Sequential()\n",
    "model.add(Flatten())\n",
    "model.add(Dense(256, activation='relu'))\n",
    "model.add(Dense(10, activation='softmax'))\n",
    "custom_optimazer = keras.optimizers.Ftrl(learning_rate=0.3)\n",
    "model.compile(optimizer=custom_optimazer,loss='categorical_crossentropy', metrics=['accuracy'])\n",
    "history=model.fit(train_images, train_labels, epochs=20, batch_size=128)\n",
    "history_list_Ftrl.append(history)\n",
    "test_loss, test_acc = model.evaluate(test_images, test_labels)\n",
    "print('test_acc:', test_acc)"
   ]
  },
  {
   "cell_type": "code",
   "execution_count": 95,
   "id": "445706b9",
   "metadata": {},
   "outputs": [
    {
     "data": {
      "text/plain": [
       "<matplotlib.legend.Legend at 0x20bef9016a0>"
      ]
     },
     "execution_count": 95,
     "metadata": {},
     "output_type": "execute_result"
    },
    {
     "data": {
      "image/png": "[encoded data removed]",
      "text/plain": [
       "<Figure size 640x480 with 2 Axes>"
      ]
     },
     "metadata": {},
     "output_type": "display_data"
    }
   ],
   "source": [
    "fig, ax = plt.subplots(nrows=2, ncols=1)\n",
    "ax[0].set_ylabel(\"Accuracy\");\n",
    "ax[1].set_xlabel(\"Generation\");\n",
    "ax[1].set_ylabel(\"Accuracy\");\n",
    "    \n",
    "for i in range(len(history_list_Adam)):\n",
    "    if i==0:\n",
    "        ax[0].plot([i for i in range(len(history_list_Adam[i].history[\"accuracy\"]))], history_list_Adam[i].history[\"accuracy\"], color = 'red',label =\"Adam\")   \n",
    "    else:\n",
    "         ax[0].plot([i for i in range(len(history_list_Adam[i].history[\"accuracy\"]))], history_list_Adam[i].history[\"accuracy\"], color = 'red')   \n",
    "    ax[1].plot([i for i in range(len(history_list_Adam[i].history[\"loss\"]))], history_list_Adam[i].history[\"loss\"], color = 'red') \n",
    "   \n",
    "    \n",
    "for i in range(len(history_list_SGD)):\n",
    "    if i==0:\n",
    "        ax[0].plot([i for i in range(len(history_list_SGD[i].history[\"accuracy\"]))], history_list_SGD[i].history[\"accuracy\"], color = 'lime',label =\"SGD\")   \n",
    "    else:\n",
    "        ax[0].plot([i for i in range(len(history_list_SGD[i].history[\"accuracy\"]))], history_list_SGD[i].history[\"accuracy\"], color = 'lime')  \n",
    "    ax[1].plot([i for i in range(len(history_list_SGD[i].history[\"loss\"]))], history_list_SGD[i].history[\"loss\"], color = 'lime') \n",
    "   \n",
    "    \n",
    "for i in range(len(history_list_Ftrl)):\n",
    "    if i==0:\n",
    "        ax[0].plot([i for i in range(len(history_list_Ftrl[i].history[\"accuracy\"]))], history_list_Ftrl[i].history[\"accuracy\"], color = 'lightskyblue',label =\"Ftrl\")  \n",
    "    else:\n",
    "        ax[0].plot([i for i in range(len(history_list_Ftrl[i].history[\"accuracy\"]))], history_list_Ftrl[i].history[\"accuracy\"], color = 'lightskyblue') \n",
    "    ax[1].plot([i for i in range(len(history_list_Ftrl[i].history[\"loss\"]))], history_list_Ftrl[i].history[\"loss\"], color = 'lightskyblue') \n",
    "\n",
    "ax[0].legend(bbox_to_anchor =(0.3, 1), ncol = 3)"
   ]
  },
  {
   "cell_type": "markdown",
   "id": "a75fe372",
   "metadata": {},
   "source": [
    "Мы видим, что точность не ниже 95% процентов достижима для текущей архитектуры сети за 20 эпох при использовании оптимизаторов SGD и Ftrl."
   ]
  },
  {
   "cell_type": "markdown",
   "id": "6cae0bd5",
   "metadata": {},
   "source": [
    "Adam- обучение с использованием этого оптимизатора довольно медленное, и не эффективное при данной архитектуре и наборе данных. При увеличении значения параметра learning_rate точность обучения заметно падает.\n",
    "\n",
    "SGD- обучение с использованием этого оптимизатора очень эффективное и быстрое при данной архитектуре и наборе данных. При увеличении значения параметра learning_rate точность обучения значительно не изменяется.\n",
    "\n",
    "Ftrl- обучение с использованием этого оптимизатора очень эффективное, но медленнее SGD при данной архитектуре и наборе данных. При увеличении значения параметра learning_rate точность обучения незначительно падает.\n",
    "\n",
    "Можнос делать вывод, что в данной ситуации наиболее эффективным решением будет использование оптимизатора SGD, введу его значительной скорости и точности.\n"
   ]
  },
  {
   "cell_type": "code",
   "execution_count": 187,
   "id": "3750570f",
   "metadata": {},
   "outputs": [],
   "source": [
    "from PIL import Image\n",
    "import numpy as np"
   ]
  },
  {
   "cell_type": "code",
   "execution_count": 190,
   "id": "c4208fd0",
   "metadata": {},
   "outputs": [],
   "source": [
    "remove_rgb = np.vectorize(lambda a: np.array([np.sum(a)/3]), signature='(n)->(1)')\n",
    "\n",
    "def load_image(path):\n",
    "    img = Image.open(path)\n",
    "    my_number_x = 1 - np.array(img.getdata())/255.0\n",
    "    my_number_x.shape = (28, 28, 3)\n",
    "    return remove_rgb(my_number_x)"
   ]
  },
  {
   "cell_type": "code",
   "execution_count": 191,
   "id": "ee9bcfaa",
   "metadata": {},
   "outputs": [
    {
     "data": {
      "image/png": "[encoded data removed]",
      "text/plain": [
       "<Figure size 640x480 with 1 Axes>"
      ]
     },
     "metadata": {},
     "output_type": "display_data"
    },
    {
     "name": "stdout",
     "output_type": "stream",
     "text": [
      "1/1 [==============================] - 0s 13ms/step\n",
      "Number in image: 5\n"
     ]
    }
   ],
   "source": [
    "my_number_x=load_image('C:/testImage.png')\n",
    "plt.figure()\n",
    "plt.imshow(my_number_x)\n",
    "plt.show()\n",
    "\n",
    "\n",
    "my_number_x.shape=(1,28*28)\n",
    "predict=model.predict(my_number_x)\n",
    "print(f\"Number in image: {np.argmax(predict)}\")"
   ]
  }
 ],
 "metadata": {
  "kernelspec": {
   "display_name": "Python 3 (ipykernel)",
   "language": "python",
   "name": "python3"
  },
  "language_info": {
   "codemirror_mode": {
    "name": "ipython",
    "version": 3
   },
   "file_extension": ".py",
   "mimetype": "text/x-python",
   "name": "python",
   "nbconvert_exporter": "python",
   "pygments_lexer": "ipython3",
   "version": "3.9.13"
  }
 },
 "nbformat": 4,
 "nbformat_minor": 5
}
