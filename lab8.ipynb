{
 "cells": [
  {
   "cell_type": "code",
   "execution_count": 23,
   "id": "740fa1a2",
   "metadata": {},
   "outputs": [],
   "source": [
    "import numpy\n",
    "from keras.models import Sequential\n",
    "from keras.layers import Dense\n",
    "from keras.layers import Dropout\n",
    "from keras.layers import LSTM\n",
    "from keras.callbacks import ModelCheckpoint\n",
    "from keras.utils import np_utils\n",
    "import sys\n",
    "import random\n",
    "from keras.callbacks import Callback\n",
    "from tensorflow.keras.callbacks import TensorBoard\n",
    "import matplotlib.pyplot as plt #для рисования графиков"
   ]
  },
  {
   "cell_type": "code",
   "execution_count": 14,
   "id": "48141de6",
   "metadata": {},
   "outputs": [],
   "source": [
    "filename = \"wonderland.txt\"\n",
    "raw_text = open(filename).read()\n",
    "raw_text = raw_text.lower()\n",
    "chars = sorted(list(set(raw_text)))\n",
    "char_to_int = dict((c, i) for i, c in enumerate(chars))"
   ]
  },
  {
   "cell_type": "code",
   "execution_count": 15,
   "id": "8a470ff9",
   "metadata": {},
   "outputs": [
    {
     "name": "stdout",
     "output_type": "stream",
     "text": [
      "Total Characters:  77220\n",
      "Total Vocab:  51\n",
      "Total Patterns:  77120\n"
     ]
    }
   ],
   "source": [
    "n_chars = len(raw_text)\n",
    "n_vocab = len(chars)\n",
    "print( \"Total Characters: \", n_chars)\n",
    "print( \"Total Vocab: \", n_vocab)\n",
    "seq_length = 100\n",
    "dataX = []\n",
    "dataY = []\n",
    "for i in range(0, n_chars - seq_length, 1):\n",
    "    seq_in = raw_text[i:i + seq_length]\n",
    "    seq_out = raw_text[i + seq_length]\n",
    "    dataX.append([char_to_int[char] for char in seq_in])\n",
    "    dataY.append(char_to_int[seq_out])\n",
    "n_patterns = len(dataX)\n",
    "print(\"Total Patterns: \", n_patterns)"
   ]
  },
  {
   "cell_type": "code",
   "execution_count": 17,
   "id": "d1191264",
   "metadata": {},
   "outputs": [],
   "source": [
    "# reshape X to be [samples, time steps, features]\n",
    "X = numpy.reshape(dataX, (n_patterns, seq_length, 1))\n",
    "# normalize\n",
    "X = X / float(n_vocab)\n",
    "# one hot encode the output variable\n",
    "y = np_utils.to_categorical(dataY)"
   ]
  },
  {
   "cell_type": "code",
   "execution_count": 18,
   "id": "bf128ff8",
   "metadata": {},
   "outputs": [],
   "source": [
    "model = Sequential()\n",
    "model.add(LSTM(256, input_shape=(X.shape[1], X.shape[2])))\n",
    "model.add(Dropout(0.2))\n",
    "model.add(Dense(y.shape[1], activation='softmax'))\n",
    "model.compile(loss='categorical_crossentropy',\n",
    "optimizer='adam')"
   ]
  },
  {
   "cell_type": "code",
   "execution_count": 19,
   "id": "c3ecd131",
   "metadata": {},
   "outputs": [],
   "source": [
    "class TextGenerationCallback(Callback):\n",
    "    def __init__(self, chars, char_to_int, model, seq_length):\n",
    "        self.chars = chars\n",
    "        self.char_to_int = char_to_int\n",
    "        self.model = model\n",
    "        self.seq_length = seq_length\n",
    "        \n",
    "    def on_epoch_end(self, epoch, logs={}):\n",
    "        if epoch % 5 == 0 and epoch!=0 :\n",
    "            start = random.randint(0, len(raw_text) - self.seq_length - 1)\n",
    "            pattern = [self.char_to_int[char] for char in raw_text[start:start + self.seq_length]]\n",
    "            \n",
    "            generated_text = ''\n",
    "            for i in range(500):\n",
    "                x = numpy.reshape(pattern, (1, self.seq_length, 1))\n",
    "                x = x / float(len(self.chars))\n",
    "                prediction = self.model.predict(x, verbose=0)\n",
    "                index = numpy.argmax(prediction)\n",
    "                result = self.chars[index]\n",
    "                generated_text += result\n",
    "                pattern.append(index)\n",
    "                pattern = pattern[1:len(pattern)]\n",
    "                \n",
    "            print('Generated Text:')\n",
    "            print(generated_text)"
   ]
  },
  {
   "cell_type": "markdown",
   "id": "e0647e59",
   "metadata": {},
   "source": [
    "TextGenerationCallback предтсавляет собой класс (CallBack), который добавляется в список callbacks_list и имеет метод,  on_epoch_end,вызывающийся после завершения каждой эпохи. В методе проверятся, что эпоха кратна 5 и не является нулевой, если условия соблюдаются, то на экран выводится текст сгенерированный моделью на данном этапе обучения."
   ]
  },
  {
   "cell_type": "code",
   "execution_count": 20,
   "id": "fb928132",
   "metadata": {},
   "outputs": [],
   "source": [
    "# define the checkpoint\n",
    "filepath=\"weights-improvement-{epoch:02d}-{loss:.4f}.hdf5\"\n",
    "tensorboard = TensorBoard(log_dir='./logs', histogram_freq=0, write_graph=True, write_images=False)\n",
    "checkpoint = ModelCheckpoint(filepath, monitor='loss',verbose=1, save_best_only=True, mode='min')\n",
    "callbacks_list = [checkpoint, TextGenerationCallback(chars, char_to_int, model, seq_length),[tensorboard]]\n"
   ]
  },
  {
   "cell_type": "markdown",
   "id": "de8868c2",
   "metadata": {},
   "source": [
    "В список callbacks_list добавлен tensorboard, который собирает информацию о процессе обучения нейросети и записывает её в файл, котррый в дальнейшем можно просмотреть"
   ]
  },
  {
   "cell_type": "code",
   "execution_count": 21,
   "id": "5435edd6",
   "metadata": {},
   "outputs": [
    {
     "name": "stdout",
     "output_type": "stream",
     "text": [
      "Epoch 1/20\n",
      "603/603 [==============================] - ETA: 0s - loss: 3.1370\n",
      "Epoch 1: loss improved from inf to 3.13697, saving model to weights-improvement-01-3.1370.hdf5\n",
      "603/603 [==============================] - 228s 373ms/step - loss: 3.1370\n",
      "Epoch 2/20\n",
      "603/603 [==============================] - ETA: 0s - loss: 2.9244\n",
      "Epoch 2: loss improved from 3.13697 to 2.92435, saving model to weights-improvement-02-2.9244.hdf5\n",
      "603/603 [==============================] - 249s 413ms/step - loss: 2.9244\n",
      "Epoch 3/20\n",
      "603/603 [==============================] - ETA: 0s - loss: 2.7486\n",
      "Epoch 3: loss improved from 2.92435 to 2.74862, saving model to weights-improvement-03-2.7486.hdf5\n",
      "603/603 [==============================] - 254s 422ms/step - loss: 2.7486\n",
      "Epoch 4/20\n",
      "603/603 [==============================] - ETA: 0s - loss: 2.6600\n",
      "Epoch 4: loss improved from 2.74862 to 2.66002, saving model to weights-improvement-04-2.6600.hdf5\n",
      "603/603 [==============================] - 226s 374ms/step - loss: 2.6600\n",
      "Epoch 5/20\n",
      "603/603 [==============================] - ETA: 0s - loss: 2.5928\n",
      "Epoch 5: loss improved from 2.66002 to 2.59283, saving model to weights-improvement-05-2.5928.hdf5\n",
      "603/603 [==============================] - 218s 362ms/step - loss: 2.5928\n",
      "Epoch 6/20\n",
      "603/603 [==============================] - ETA: 0s - loss: 2.5335\n",
      "Epoch 6: loss improved from 2.59283 to 2.53349, saving model to weights-improvement-06-2.5335.hdf5\n",
      "Generated Text:\n",
      "ooe the woeee th the sooe th the sooe th the sooe th the sooe th the soee th the sooe th the sooe th the sooe th the sooe th the sooe th the sooe th the sooe th the sooe th the sooe th the sooe th the sooe th the sooe th the sooe th the sooe th the sooe th the sooe th the sooe th the sooe th the sooe th the sooe th the sooe th the sooe th the sooe th the sooe th the sooe th the sooe th the sooe th the sooe th the sooe th the sooe th the sooe th the sooe th the sooe th the sooe th the sooe th the\n",
      "603/603 [==============================] - 250s 414ms/step - loss: 2.5335\n",
      "Epoch 7/20\n",
      "603/603 [==============================] - ETA: 0s - loss: 2.4825\n",
      "Epoch 7: loss improved from 2.53349 to 2.48248, saving model to weights-improvement-07-2.4825.hdf5\n",
      "603/603 [==============================] - 290s 482ms/step - loss: 2.4825\n",
      "Epoch 8/20\n",
      "603/603 [==============================] - ETA: 0s - loss: 2.4359\n",
      "Epoch 8: loss improved from 2.48248 to 2.43586, saving model to weights-improvement-08-2.4359.hdf5\n",
      "603/603 [==============================] - 216s 358ms/step - loss: 2.4359\n",
      "Epoch 9/20\n",
      "603/603 [==============================] - ETA: 0s - loss: 2.3932\n",
      "Epoch 9: loss improved from 2.43586 to 2.39322, saving model to weights-improvement-09-2.3932.hdf5\n",
      "603/603 [==============================] - 222s 367ms/step - loss: 2.3932\n",
      "Epoch 10/20\n",
      "603/603 [==============================] - ETA: 0s - loss: 2.3567\n",
      "Epoch 10: loss improved from 2.39322 to 2.35669, saving model to weights-improvement-10-2.3567.hdf5\n",
      "603/603 [==============================] - 255s 424ms/step - loss: 2.3567\n",
      "Epoch 11/20\n",
      "603/603 [==============================] - ETA: 0s - loss: 2.3169\n",
      "Epoch 11: loss improved from 2.35669 to 2.31691, saving model to weights-improvement-11-2.3169.hdf5\n",
      "Generated Text:\n",
      "e wosl  and she tooe   nh  aa  no aa lo the wool  and the wosdd the wosdd the had not oo the tooe  nh   nhe  an ce in whu  nn aa in the wool  and the wost  and she tooe   nh  aa  no aa lo the wool  and the wosdd the wosdd the had not oo the tooe  nh   nhe  an ce in whu  nn aa in the wool  and the wost  and she tooe   nh  aa  no aa lo the wool  and the wosdd the wosdd the had not oo the tooe  nh   nhe  an ce in whu  nn aa in the wool  and the wost  and she tooe   nh  aa  no aa lo the wool  and th\n",
      "603/603 [==============================] - 300s 497ms/step - loss: 2.3169\n",
      "Epoch 12/20\n",
      "603/603 [==============================] - ETA: 0s - loss: 2.2861\n",
      "Epoch 12: loss improved from 2.31691 to 2.28614, saving model to weights-improvement-12-2.2861.hdf5\n",
      "603/603 [==============================] - 265s 440ms/step - loss: 2.2861\n",
      "Epoch 13/20\n",
      "603/603 [==============================] - ETA: 0s - loss: 2.2492\n",
      "Epoch 13: loss improved from 2.28614 to 2.24923, saving model to weights-improvement-13-2.2492.hdf5\n",
      "603/603 [==============================] - 280s 465ms/step - loss: 2.2492\n",
      "Epoch 14/20\n",
      "603/603 [==============================] - ETA: 0s - loss: 2.2162\n",
      "Epoch 14: loss improved from 2.24923 to 2.21620, saving model to weights-improvement-14-2.2162.hdf5\n",
      "603/603 [==============================] - 290s 481ms/step - loss: 2.2162\n",
      "Epoch 15/20\n",
      "603/603 [==============================] - ETA: 0s - loss: 2.1838\n",
      "Epoch 15: loss improved from 2.21620 to 2.18382, saving model to weights-improvement-15-2.1838.hdf5\n",
      "603/603 [==============================] - 293s 485ms/step - loss: 2.1838\n",
      "Epoch 16/20\n",
      "603/603 [==============================] - ETA: 0s - loss: 2.1491\n",
      "Epoch 16: loss improved from 2.18382 to 2.14915, saving model to weights-improvement-16-2.1491.hdf5\n",
      "Generated Text:\n",
      " вђќ said the caterpillar.\n",
      "\n",
      "вђњi sos dal  a dan aat tou dn вђќ said the caterpillar.\n",
      "\n",
      "вђњi sos dal  a dan aat tou dn вђќ said the caterpillar.\n",
      "\n",
      "вђњi sos dal  a dan aat tou dn вђќ said the caterpillar.\n",
      "\n",
      "вђњi sos dal  a dan aat tou dn вђќ said the caterpillar.\n",
      "\n",
      "вђњi sos dal  a dan aat tou dn вђќ said the caterpillar.\n",
      "\n",
      "вђњi sos dal  a dan aat tou dn вђќ said the caterpillar.\n",
      "\n",
      "вђњi sos dal  a dan aat tou dn вђќ said the caterpillar.\n",
      "\n",
      "вђњi sos dal  a dan aat tou dn вђќ said the caterpillar.\n",
      "\n",
      "вђњi sos\n",
      "603/603 [==============================] - 299s 497ms/step - loss: 2.1491\n",
      "Epoch 17/20\n",
      "603/603 [==============================] - ETA: 0s - loss: 2.1135\n",
      "Epoch 17: loss improved from 2.14915 to 2.11354, saving model to weights-improvement-17-2.1135.hdf5\n",
      "603/603 [==============================] - 293s 487ms/step - loss: 2.1135\n",
      "Epoch 18/20\n",
      "603/603 [==============================] - ETA: 0s - loss: 2.0857\n",
      "Epoch 18: loss improved from 2.11354 to 2.08567, saving model to weights-improvement-18-2.0857.hdf5\n",
      "603/603 [==============================] - 305s 506ms/step - loss: 2.0857\n",
      "Epoch 19/20\n",
      "603/603 [==============================] - ETA: 0s - loss: 2.0499\n",
      "Epoch 19: loss improved from 2.08567 to 2.04992, saving model to weights-improvement-19-2.0499.hdf5\n",
      "603/603 [==============================] - 305s 507ms/step - loss: 2.0499\n",
      "Epoch 20/20\n",
      "603/603 [==============================] - ETA: 0s - loss: 2.0189\n",
      "Epoch 20: loss improved from 2.04992 to 2.01892, saving model to weights-improvement-20-2.0189.hdf5\n",
      "603/603 [==============================] - 281s 467ms/step - loss: 2.0189\n"
     ]
    }
   ],
   "source": [
    "data=model.fit(X, y, epochs=20, batch_size=128,callbacks=callbacks_list)"
   ]
  },
  {
   "cell_type": "code",
   "execution_count": 26,
   "id": "7bcd57a9",
   "metadata": {},
   "outputs": [
    {
     "data": {
      "image/png": "[encoded data removed]",
      "text/plain": [
       "<Figure size 432x288 with 1 Axes>"
      ]
     },
     "metadata": {
      "needs_background": "light"
     },
     "output_type": "display_data"
    }
   ],
   "source": [
    "fig, ax = plt.subplots(nrows=1, ncols=1)\n",
    "ax.set_xlabel(\"Generation\");\n",
    "ax.set_ylabel(\"val_loss\");  \n",
    "ax.plot([i for i in range(len(data.history[\"loss\"]))], data.history[\"loss\"], color = 'red') \n",
    "plt.show()"
   ]
  },
  {
   "cell_type": "code",
   "execution_count": 30,
   "id": "209a63e1",
   "metadata": {},
   "outputs": [],
   "source": [
    "# load the network weights\n",
    "filename = \"weights-improvement-11-2.3169.hdf5\"\n",
    "model.load_weights(filename)\n",
    "model.compile(loss='categorical_crossentropy',optimizer='adam')"
   ]
  },
  {
   "cell_type": "code",
   "execution_count": 31,
   "id": "cbb392c8",
   "metadata": {},
   "outputs": [],
   "source": [
    "int_to_char = dict((i, c) for i, c in enumerate(chars))"
   ]
  },
  {
   "cell_type": "code",
   "execution_count": 32,
   "id": "edd6c806",
   "metadata": {},
   "outputs": [
    {
     "name": "stdout",
     "output_type": "stream",
     "text": [
      "Seed:\n",
      "\" ame suddenly\n",
      "upon an open place, with a little house in it about four feet high.\n",
      "вђњwhoever lives th \"\n",
      "e soee to the soee to the toee to the toee to the toee to the toee to the toee  nh   nhe  an ce in whu  nn aa in the wool  and the wost  and she tooe   nh  aa  no aa lo the wool  and the wosdd the wosdd the had not oo the tooe  nh   nhe  an ce in whu  nn aa in the wool  and the wost  and she tooe   nh  aa  no aa lo the wool  and the wosdd the wosdd the had not oo the tooe  nh   nhe  an ce in whu  nn aa in the wool  and the wost  and she tooe   nh  aa  no aa lo the wool  and the wosdd the wosdd the had not oo the tooe  nh   nhe  an ce in whu  nn aa in the wool  and the wost  and she tooe   nh  aa  no aa lo the wool  and the wosdd the wosdd the had not oo the tooe  nh   nhe  an ce in whu  nn aa in the wool  and the wost  and she tooe   nh  aa  no aa lo the wool  and the wosdd the wosdd the had not oo the tooe  nh   nhe  an ce in whu  nn aa in the wool  and the wost  and she tooe   nh  aa  no aa lo the wool  and the wosdd the wosdd the had not oo the tooe  nh   nhe  an ce in whu  nn aa in\n",
      "Done.\n"
     ]
    }
   ],
   "source": [
    "# pick a random seed\n",
    "start = numpy.random.randint(0, len(dataX)-1)\n",
    "pattern = dataX[start]\n",
    "print( \"Seed:\")\n",
    "print( \"\\\"\", ''.join([int_to_char[value] for value in pattern]), \"\\\"\")\n",
    "# generate characters\n",
    "for i in range(1000):\n",
    "    x = numpy.reshape(pattern, (1, len(pattern), 1))\n",
    "    x = x / float(n_vocab)\n",
    "    prediction = model.predict(x, verbose=0)\n",
    "    index = numpy.argmax(prediction)\n",
    "    result = int_to_char[index]\n",
    "    seq_in = [int_to_char[value] for value in pattern]\n",
    "    sys.stdout.write(result)\n",
    "    pattern.append(index)\n",
    "    pattern = pattern[1:len(pattern)]\n",
    "print( \"\\nDone.\")\n"
   ]
  },
  {
   "cell_type": "markdown",
   "id": "9e3acd11",
   "metadata": {},
   "source": [
    "Вывод результата генерации текста моделюь после обучения"
   ]
  },
  {
   "cell_type": "code",
   "execution_count": null,
   "id": "59337838",
   "metadata": {},
   "outputs": [],
   "source": [
    "!tensorboard --logdir=./logs"
   ]
  }
 ],
 "metadata": {
  "kernelspec": {
   "display_name": "Python 3 (ipykernel)",
   "language": "python",
   "name": "python3"
  },
  "language_info": {
   "codemirror_mode": {
    "name": "ipython",
    "version": 3
   },
   "file_extension": ".py",
   "mimetype": "text/x-python",
   "name": "python",
   "nbconvert_exporter": "python",
   "pygments_lexer": "ipython3",
   "version": "3.9.13"
  }
 },
 "nbformat": 4,
 "nbformat_minor": 5
}
